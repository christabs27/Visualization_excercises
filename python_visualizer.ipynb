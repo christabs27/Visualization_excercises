{
 "cells": [
  {
   "cell_type": "code",
   "execution_count": 2,
   "metadata": {
    "colab": {
     "base_uri": "https://localhost:8080/"
    },
    "id": "NZhUr2iYdA5K",
    "outputId": "2ba4d543-518b-4e0f-b841-09c963cbe074"
   },
   "outputs": [
    {
     "name": "stdout",
     "output_type": "stream",
     "text": [
      "{'NEPAL': 228, 'USA': 41, 'UK': 20, 'CHINA': 12, 'CANADA': 11}\n"
     ]
    }
   ],
   "source": [
    "import pandas as pd\n",
    "import matplotlib.pyplot as plt\n",
    "from matplotlib.backends.backend_pdf import PdfPages\n",
    "import json\n",
    "\n",
    "# Read CSV file\n",
    "df = pd.read_csv('mountaineers.csv')\n",
    "# Convert CSV to JSON (remove index)\n",
    "json_mountaineers = df.to_json(orient='records')\n",
    "# Load JSON string into dictionary\n",
    "mountaineers = json.loads(json_mountaineers)\n",
    "\n",
    "# The mountaineer count each year for 5 countries\n",
    "total_mountaineers = {'NEPAL': 0, 'USA': 0, 'UK': 0, 'CHINA': 0, 'CANADA': 0}\n",
    "\n",
    "# Filter the data, extract into new dicitonary\n",
    "def filter_data(data, country):\n",
    "    count = 0\n",
    "    reset = True\n",
    "    for i in mountaineers:\n",
    "        # Number of mountainers in 2010\n",
    "        if i['COUNTRY'] == country and i['YEAR'] == 2010:\n",
    "            count = count + 1\n",
    "            data[country] = count\n",
    "        # Number of mountainers in 2011\n",
    "        if i['COUNTRY'] == country and i['YEAR'] == 2011:\n",
    "            if reset is True:\n",
    "                count = 0\n",
    "                reset = False\n",
    "            count = count + 1\n",
    "            data[country] = count + 1\n",
    "        # Number of mountainers in 2012\n",
    "        if i['COUNTRY'] == country and i['YEAR'] == 2012:\n",
    "            if reset is False:\n",
    "                count = 0\n",
    "                reset = True\n",
    "            count = count + 1\n",
    "            data[country] = count + 1\n",
    "    return total_mountaineers \n",
    "\n",
    "# Configure the number of climbers for each country\n",
    "add_nepal_climbers = filter_data(total_mountaineers, 'NEPAL')\n",
    "add_usa_climbers = filter_data(total_mountaineers, 'USA')\n",
    "add_uk_climbers = filter_data(total_mountaineers, 'UK')\n",
    "add_china_climbers = filter_data(total_mountaineers, 'CHINA')\n",
    "add_australia_climbers = filter_data(total_mountaineers, 'CANADA')\n",
    "all_climbers = total_mountaineers\n",
    "\n",
    "print(all_climbers)\n",
    "\n",
    "# Print JSON file (for debugging)\n",
    "# print(json.dumps(obj, indent=4))\n",
    "\n",
    "# Visualize mountaineers in bar chart\n",
    "# Create a data frame\n",
    "df = pd.DataFrame(list(total_mountaineers.items()),columns = ['Country','Number of Mountaineers']) \n",
    "\n",
    "with PdfPages(r'Mt. Everest Mountaineers.pdf') as export_pdf:\n",
    "    # Creat bar chart\n",
    "    plt.barh(df['Country'], df['Number of Mountaineers'], color=['#1F456E', '#004F98', '#0492C2', '#63C5DA', '#BCD4E6'])\n",
    "    plt.title('Mt. Everest Mountaineers, 2010-2012')\n",
    "    plt.xlabel('Number of Mountaineers')\n",
    "    plt.ylabel('Country of Origin')\n",
    "    plt.tight_layout()\n",
    "    # To display chart from command line\n",
    "    # plt.show()\n",
    "    # Export to PDF\n",
    "    export_pdf.savefig()\n",
    "    plt.close()"
   ]
  },
  {
   "cell_type": "code",
   "execution_count": null,
   "metadata": {
    "id": "_tgGi5GCvIPf"
   },
   "outputs": [],
   "source": []
  }
 ],
 "metadata": {
  "colab": {
   "name": "python_visualizer.ipynb",
   "provenance": []
  },
  "kernelspec": {
   "display_name": "Python 3 (ipykernel)",
   "language": "python",
   "name": "python3"
  },
  "language_info": {
   "codemirror_mode": {
    "name": "ipython",
    "version": 3
   },
   "file_extension": ".py",
   "mimetype": "text/x-python",
   "name": "python",
   "nbconvert_exporter": "python",
   "pygments_lexer": "ipython3",
   "version": "3.9.7"
  }
 },
 "nbformat": 4,
 "nbformat_minor": 4
}
